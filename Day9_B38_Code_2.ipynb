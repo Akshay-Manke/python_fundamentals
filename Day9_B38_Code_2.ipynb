{
 "cells": [
  {
   "cell_type": "code",
   "execution_count": 1,
   "metadata": {},
   "outputs": [
    {
     "name": "stdout",
     "output_type": "stream",
     "text": [
      "tell me something and i will repeat it back for you Madhavi\n",
      "Madhavi\n"
     ]
    }
   ],
   "source": [
    "message = input('tell me something and i will repeat it back for you ')\n",
    "print(message)\n"
   ]
  },
  {
   "cell_type": "code",
   "execution_count": null,
   "metadata": {},
   "outputs": [],
   "source": [
    "Introduction to user accepted input:"
   ]
  },
  {
   "cell_type": "code",
   "execution_count": null,
   "metadata": {},
   "outputs": [],
   "source": []
  },
  {
   "cell_type": "code",
   "execution_count": 2,
   "metadata": {},
   "outputs": [
    {
     "name": "stdout",
     "output_type": "stream",
     "text": [
      "please enteer your name: Akshay\n",
      "\n",
      "Hello, Akshay\n"
     ]
    }
   ],
   "source": [
    "name = input('please enteer your name: ')\n",
    "print(f\"\\nHello, {name}\")"
   ]
  },
  {
   "cell_type": "code",
   "execution_count": null,
   "metadata": {},
   "outputs": [],
   "source": [
    "# enhancement of the code ...!! Very importnat ***"
   ]
  },
  {
   "cell_type": "code",
   "execution_count": 3,
   "metadata": {},
   "outputs": [],
   "source": [
    "prompt = \"if you tell us who you are, we can personalize a message for you\"\n",
    "prompt += \"\\nWhat is your first name?\""
   ]
  },
  {
   "cell_type": "code",
   "execution_count": 4,
   "metadata": {},
   "outputs": [
    {
     "name": "stdout",
     "output_type": "stream",
     "text": [
      "if you tell us who you are, we can personalize a message for you\n",
      "What is your first name?Madhavi\n",
      "\n",
      "Hello, Madhavi\n"
     ]
    }
   ],
   "source": [
    "name = input(prompt)\n",
    "\n",
    "print(f\"\\nHello, {name.title()}\")"
   ]
  },
  {
   "cell_type": "code",
   "execution_count": null,
   "metadata": {},
   "outputs": [],
   "source": []
  }
 ],
 "metadata": {
  "kernelspec": {
   "display_name": "Python 3",
   "language": "python",
   "name": "python3"
  },
  "language_info": {
   "codemirror_mode": {
    "name": "ipython",
    "version": 3
   },
   "file_extension": ".py",
   "mimetype": "text/x-python",
   "name": "python",
   "nbconvert_exporter": "python",
   "pygments_lexer": "ipython3",
   "version": "3.8.5"
  }
 },
 "nbformat": 4,
 "nbformat_minor": 4
}
