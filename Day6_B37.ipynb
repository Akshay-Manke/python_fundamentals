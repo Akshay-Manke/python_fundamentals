{
 "cells": [
  {
   "cell_type": "code",
   "execution_count": 1,
   "metadata": {},
   "outputs": [],
   "source": [
    "students = ['Shafi', 'Akshay', 'Ibrahim', 'Kavya', 'Shweta', 'Sumaiya', 'Venu', 'Dinesh']"
   ]
  },
  {
   "cell_type": "code",
   "execution_count": 2,
   "metadata": {},
   "outputs": [
    {
     "name": "stdout",
     "output_type": "stream",
     "text": [
      "['Shafi', 'Akshay', 'Ibrahim', 'Kavya', 'Shweta', 'Sumaiya', 'Venu', 'Dinesh']\n"
     ]
    }
   ],
   "source": [
    "print(students)"
   ]
  },
  {
   "cell_type": "code",
   "execution_count": 3,
   "metadata": {},
   "outputs": [
    {
     "data": {
      "text/plain": [
       "list"
      ]
     },
     "execution_count": 3,
     "metadata": {},
     "output_type": "execute_result"
    }
   ],
   "source": [
    "type(students)"
   ]
  },
  {
   "cell_type": "code",
   "execution_count": 4,
   "metadata": {},
   "outputs": [],
   "source": [
    "# req: i want to appreciate all the students in the above list....!!"
   ]
  },
  {
   "cell_type": "code",
   "execution_count": 5,
   "metadata": {},
   "outputs": [
    {
     "name": "stdout",
     "output_type": "stream",
     "text": [
      "keep up the good work, Shafi\n"
     ]
    }
   ],
   "source": [
    "print(f\"keep up the good work, {students[0].title()}\")"
   ]
  },
  {
   "cell_type": "code",
   "execution_count": 6,
   "metadata": {},
   "outputs": [
    {
     "name": "stdout",
     "output_type": "stream",
     "text": [
      "keep up the good work, Akshay\n"
     ]
    }
   ],
   "source": [
    "print(f\"keep up the good work, {students[1].title()}\")"
   ]
  },
  {
   "cell_type": "code",
   "execution_count": 7,
   "metadata": {},
   "outputs": [
    {
     "name": "stdout",
     "output_type": "stream",
     "text": [
      "keep up the good work, Ibrahim\n"
     ]
    }
   ],
   "source": [
    "print(f\"keep up the good work, {students[2].title()}\")"
   ]
  },
  {
   "cell_type": "code",
   "execution_count": 8,
   "metadata": {},
   "outputs": [
    {
     "name": "stdout",
     "output_type": "stream",
     "text": [
      "keep up the good work, Kavya\n"
     ]
    }
   ],
   "source": [
    "print(f\"keep up the good work, {students[3].title()}\")"
   ]
  },
  {
   "cell_type": "code",
   "execution_count": null,
   "metadata": {},
   "outputs": [],
   "source": [
    "introduction to for loops: "
   ]
  },
  {
   "cell_type": "code",
   "execution_count": null,
   "metadata": {},
   "outputs": [],
   "source": [
    "general syntax of for loop:"
   ]
  },
  {
   "cell_type": "code",
   "execution_count": null,
   "metadata": {},
   "outputs": [],
   "source": [
    "for tempvar in mainvar:\n",
    "    print(tempvar)"
   ]
  },
  {
   "cell_type": "code",
   "execution_count": 13,
   "metadata": {},
   "outputs": [
    {
     "name": "stdout",
     "output_type": "stream",
     "text": [
      "keep up the good work, Shafi\n",
      "keep up the good work, Akshay\n",
      "keep up the good work, Ibrahim\n",
      "keep up the good work, Kavya\n",
      "keep up the good work, Shweta\n",
      "keep up the good work, Sumaiya\n",
      "keep up the good work, Venu\n",
      "keep up the good work, Dinesh\n"
     ]
    }
   ],
   "source": [
    "for x in students:\n",
    "    print(f\"keep up the good work, {x.title()}\")"
   ]
  },
  {
   "cell_type": "code",
   "execution_count": 14,
   "metadata": {},
   "outputs": [
    {
     "name": "stdout",
     "output_type": "stream",
     "text": [
      "keep up the good work, Shafi\n",
      "keep up the good work, Akshay\n",
      "keep up the good work, Ibrahim\n",
      "keep up the good work, Kavya\n",
      "keep up the good work, Shweta\n",
      "keep up the good work, Sumaiya\n",
      "keep up the good work, Venu\n",
      "keep up the good work, Dinesh\n"
     ]
    }
   ],
   "source": [
    "for a in students:\n",
    "    print(f\"keep up the good work, {a.title()}\")"
   ]
  },
  {
   "cell_type": "code",
   "execution_count": null,
   "metadata": {},
   "outputs": [],
   "source": [
    "# enhancement of the code..\n",
    "# i also want to let them know that i am looking for the practive file of today."
   ]
  },
  {
   "cell_type": "code",
   "execution_count": 15,
   "metadata": {},
   "outputs": [
    {
     "name": "stdout",
     "output_type": "stream",
     "text": [
      "keep up the good work, Dinesh\n",
      "i am looking forward to receive your practice files, Shafi\n",
      "keep up the good work, Dinesh\n",
      "i am looking forward to receive your practice files, Akshay\n",
      "keep up the good work, Dinesh\n",
      "i am looking forward to receive your practice files, Ibrahim\n",
      "keep up the good work, Dinesh\n",
      "i am looking forward to receive your practice files, Kavya\n",
      "keep up the good work, Dinesh\n",
      "i am looking forward to receive your practice files, Shweta\n",
      "keep up the good work, Dinesh\n",
      "i am looking forward to receive your practice files, Sumaiya\n",
      "keep up the good work, Dinesh\n",
      "i am looking forward to receive your practice files, Venu\n",
      "keep up the good work, Dinesh\n",
      "i am looking forward to receive your practice files, Dinesh\n"
     ]
    }
   ],
   "source": [
    "for a in students:\n",
    "    print(f\"keep up the good work, {x.title()}\")\n",
    "    print(f\"i am looking forward to receive your practice files, {a.title()}\")"
   ]
  },
  {
   "cell_type": "code",
   "execution_count": 16,
   "metadata": {},
   "outputs": [
    {
     "name": "stdout",
     "output_type": "stream",
     "text": [
      "keep up the good work, Dinesh\n",
      "i am looking forward to receive your practice files, Shafi.\n",
      "\n",
      "keep up the good work, Dinesh\n",
      "i am looking forward to receive your practice files, Akshay.\n",
      "\n",
      "keep up the good work, Dinesh\n",
      "i am looking forward to receive your practice files, Ibrahim.\n",
      "\n",
      "keep up the good work, Dinesh\n",
      "i am looking forward to receive your practice files, Kavya.\n",
      "\n",
      "keep up the good work, Dinesh\n",
      "i am looking forward to receive your practice files, Shweta.\n",
      "\n",
      "keep up the good work, Dinesh\n",
      "i am looking forward to receive your practice files, Sumaiya.\n",
      "\n",
      "keep up the good work, Dinesh\n",
      "i am looking forward to receive your practice files, Venu.\n",
      "\n",
      "keep up the good work, Dinesh\n",
      "i am looking forward to receive your practice files, Dinesh.\n",
      "\n"
     ]
    }
   ],
   "source": [
    "for a in students:\n",
    "    print(f\"keep up the good work, {x.title()}\")\n",
    "    print(f\"i am looking forward to receive your practice files, {a.title()}.\\n\")\n",
    "    \n",
    "    # the gap above is for indentation ... and it is complusory! \n",
    "    # if the indentation is not given then Python will show error "
   ]
  },
  {
   "cell_type": "code",
   "execution_count": null,
   "metadata": {},
   "outputs": [],
   "source": [
    "for a in students:\n",
    "    print(f\"keep up the good work, {x.title()}\")\n",
    "    print(f\"i am looking forward to receive your practice files, {a.title()}.\\n\")"
   ]
  },
  {
   "cell_type": "code",
   "execution_count": 20,
   "metadata": {},
   "outputs": [],
   "source": [
    "# writing in the loop"
   ]
  },
  {
   "cell_type": "code",
   "execution_count": 21,
   "metadata": {},
   "outputs": [
    {
     "name": "stdout",
     "output_type": "stream",
     "text": [
      "keep up the good work, Dinesh\n",
      "i am looking forward to receive your practice files, Shafi.\n",
      "\n",
      "keep up the good work, Dinesh\n",
      "i am looking forward to receive your practice files, Akshay.\n",
      "\n",
      "keep up the good work, Dinesh\n",
      "i am looking forward to receive your practice files, Ibrahim.\n",
      "\n",
      "keep up the good work, Dinesh\n",
      "i am looking forward to receive your practice files, Kavya.\n",
      "\n",
      "keep up the good work, Dinesh\n",
      "i am looking forward to receive your practice files, Shweta.\n",
      "\n",
      "keep up the good work, Dinesh\n",
      "i am looking forward to receive your practice files, Sumaiya.\n",
      "\n",
      "keep up the good work, Dinesh\n",
      "i am looking forward to receive your practice files, Venu.\n",
      "\n",
      "keep up the good work, Dinesh\n",
      "i am looking forward to receive your practice files, Dinesh.\n",
      "\n",
      "thank you all for showing intrest in learning Python\n"
     ]
    }
   ],
   "source": [
    "for a in students:\n",
    "    print(f\"keep up the good work, {x.title()}\")\n",
    "    print(f\"i am looking forward to receive your practice files, {a.title()}.\\n\")\n",
    "    \n",
    "print('thank you all for showing intrest in learning Python')"
   ]
  },
  {
   "cell_type": "code",
   "execution_count": null,
   "metadata": {},
   "outputs": [],
   "source": []
  },
  {
   "cell_type": "code",
   "execution_count": null,
   "metadata": {},
   "outputs": [],
   "source": []
  },
  {
   "cell_type": "code",
   "execution_count": null,
   "metadata": {},
   "outputs": [],
   "source": []
  },
  {
   "cell_type": "code",
   "execution_count": null,
   "metadata": {},
   "outputs": [],
   "source": []
  },
  {
   "cell_type": "code",
   "execution_count": null,
   "metadata": {},
   "outputs": [],
   "source": []
  }
 ],
 "metadata": {
  "kernelspec": {
   "display_name": "Python 3",
   "language": "python",
   "name": "python3"
  },
  "language_info": {
   "codemirror_mode": {
    "name": "ipython",
    "version": 3
   },
   "file_extension": ".py",
   "mimetype": "text/x-python",
   "name": "python",
   "nbconvert_exporter": "python",
   "pygments_lexer": "ipython3",
   "version": "3.8.5"
  }
 },
 "nbformat": 4,
 "nbformat_minor": 4
}
